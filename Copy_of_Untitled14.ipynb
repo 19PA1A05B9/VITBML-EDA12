{
  "nbformat": 4,
  "nbformat_minor": 0,
  "metadata": {
    "colab": {
      "name": "Copy of Untitled14.ipynb",
      "provenance": [],
      "authorship_tag": "ABX9TyNtw2sobYeSTl9dsqVIoPZR",
      "include_colab_link": true
    },
    "kernelspec": {
      "name": "python3",
      "display_name": "Python 3"
    }
  },
  "cells": [
    {
      "cell_type": "markdown",
      "metadata": {
        "id": "view-in-github",
        "colab_type": "text"
      },
      "source": [
        "<a href=\"https://colab.research.google.com/github/19PA1A05B9/VITBML-EDA1/blob/master/Copy_of_Untitled14.ipynb\" target=\"_parent\"><img src=\"https://colab.research.google.com/assets/colab-badge.svg\" alt=\"Open In Colab\"/></a>"
      ]
    },
    {
      "cell_type": "markdown",
      "metadata": {
        "id": "qgDi-1zRKvSY",
        "colab_type": "text"
      },
      "source": [
        "# TOPIC: san_francisco_street_trees\n"
      ]
    },
    {
      "cell_type": "markdown",
      "metadata": {
        "id": "MoPEuGp8LEy0",
        "colab_type": "text"
      },
      "source": [
        "This is the data taken from the online sources like  https://www.kaggle.com/jboysen/sf-street-trees."
      ]
    },
    {
      "cell_type": "markdown",
      "metadata": {
        "id": "E9kyF1JLGnyJ",
        "colab_type": "text"
      },
      "source": [
        "Questions:\n",
        "  \n",
        " \n",
        "\n",
        "*   what is the maximum value of x_coordinate?\n",
        "*   what is the minimum value of y_coordinate?\n",
        "*   what is the average dbh value?\n",
        "*   which address has more site_order?\n",
        "*  which species is more repeated?\n",
        "*what is the maximum latitude?\n",
        "\n",
        "\n",
        "\n",
        "\n",
        "\n",
        "\n",
        "\n",
        "\n"
      ]
    },
    {
      "cell_type": "code",
      "metadata": {
        "id": "H3FMNEbBq7h6",
        "colab_type": "code",
        "colab": {}
      },
      "source": [
        "import numpy as np\n",
        "import pandas as pd\n",
        "import matplotlib.pyplot as plt"
      ],
      "execution_count": 0,
      "outputs": []
    },
    {
      "cell_type": "code",
      "metadata": {
        "id": "zbRtTsnernX_",
        "colab_type": "code",
        "outputId": "93522550-b029-4e63-bbfc-c41f5a22ea80",
        "colab": {
          "base_uri": "https://localhost:8080/",
          "height": 252
        }
      },
      "source": [
        "a=pd.read_csv('san_francisco_street_trees.csv')\n",
        "print(a)"
      ],
      "execution_count": 10,
      "outputs": [
        {
          "output_type": "stream",
          "text": [
            "                   address care_assistant  ...  x_coordinate  y_coordinate\n",
            "0            443 Naples St            NaN  ...  6.003355e+06  2.091004e+06\n",
            "1          3630 Webster St            NaN  ...  6.002627e+06  2.121101e+06\n",
            "2            238 Downey St            NaN  ...  5.999000e+06  2.106770e+06\n",
            "3              205 13th St            FUF  ...  6.007392e+06  2.108420e+06\n",
            "4         2417 Harrison St            NaN  ...  6.008870e+06  2.104236e+06\n",
            "...                    ...            ...  ...           ...           ...\n",
            "188457     1060 Mission St            NaN  ...  6.009677e+06  2.112095e+06\n",
            "188458       699X 46th Ave            NaN  ...  5.981634e+06  2.111076e+06\n",
            "188459       1077 Front St            NaN  ...  6.012596e+06  2.120125e+06\n",
            "188460        2963 22nd St            NaN  ...  6.008497e+06  2.103277e+06\n",
            "188461  1441X Alemany Blvd            NaN  ...  6.002336e+06  2.093629e+06\n",
            "\n",
            "[188462 rows x 18 columns]\n"
          ],
          "name": "stdout"
        }
      ]
    },
    {
      "cell_type": "code",
      "metadata": {
        "id": "yc247xgYtWsn",
        "colab_type": "code",
        "outputId": "ea34eec2-ce78-4420-be2c-518932002642",
        "colab": {
          "base_uri": "https://localhost:8080/",
          "height": 34
        }
      },
      "source": [
        "#dimensions of the data\n",
        "a.shape"
      ],
      "execution_count": 11,
      "outputs": [
        {
          "output_type": "execute_result",
          "data": {
            "text/plain": [
              "(188462, 18)"
            ]
          },
          "metadata": {
            "tags": []
          },
          "execution_count": 11
        }
      ]
    },
    {
      "cell_type": "code",
      "metadata": {
        "id": "ZolyMotpvI1E",
        "colab_type": "code",
        "outputId": "49f76d3d-e010-4f5b-9e00-f51293360010",
        "colab": {
          "base_uri": "https://localhost:8080/",
          "height": 408
        }
      },
      "source": [
        "#columns of the data\n",
        "a.info()"
      ],
      "execution_count": 0,
      "outputs": [
        {
          "output_type": "stream",
          "text": [
            "<class 'pandas.core.frame.DataFrame'>\n",
            "RangeIndex: 188462 entries, 0 to 188461\n",
            "Data columns (total 18 columns):\n",
            "address           186972 non-null object\n",
            "care_assistant    23266 non-null object\n",
            "care_taker        188462 non-null object\n",
            "dbh               148730 non-null float64\n",
            "latitude          185937 non-null float64\n",
            "legal_status      188405 non-null object\n",
            "location          185937 non-null object\n",
            "longitude         185937 non-null float64\n",
            "permit_notes      50660 non-null object\n",
            "plant_date        64873 non-null object\n",
            "plant_type        188462 non-null object\n",
            "plot_size         139024 non-null object\n",
            "site_info         188462 non-null object\n",
            "site_order        187003 non-null float64\n",
            "species           188462 non-null object\n",
            "tree_id           188462 non-null int64\n",
            "x_coordinate      185937 non-null float64\n",
            "y_coordinate      185937 non-null float64\n",
            "dtypes: float64(6), int64(1), object(11)\n",
            "memory usage: 25.9+ MB\n"
          ],
          "name": "stdout"
        }
      ]
    },
    {
      "cell_type": "code",
      "metadata": {
        "id": "RDpoRqsAvRsk",
        "colab_type": "code",
        "outputId": "c8607b7c-602e-43b0-a89f-c60ba72f6284",
        "colab": {
          "base_uri": "https://localhost:8080/",
          "height": 34
        }
      },
      "source": [
        "#dimensions\n",
        "a.ndim"
      ],
      "execution_count": 0,
      "outputs": [
        {
          "output_type": "execute_result",
          "data": {
            "text/plain": [
              "2"
            ]
          },
          "metadata": {
            "tags": []
          },
          "execution_count": 7
        }
      ]
    },
    {
      "cell_type": "code",
      "metadata": {
        "id": "UslCVYpTvaKc",
        "colab_type": "code",
        "outputId": "fa19f714-c461-44c4-fcac-7f81edfdd0d1",
        "colab": {
          "base_uri": "https://localhost:8080/",
          "height": 297
        }
      },
      "source": [
        "a.describe()"
      ],
      "execution_count": 0,
      "outputs": [
        {
          "output_type": "execute_result",
          "data": {
            "text/html": [
              "<div>\n",
              "<style scoped>\n",
              "    .dataframe tbody tr th:only-of-type {\n",
              "        vertical-align: middle;\n",
              "    }\n",
              "\n",
              "    .dataframe tbody tr th {\n",
              "        vertical-align: top;\n",
              "    }\n",
              "\n",
              "    .dataframe thead th {\n",
              "        text-align: right;\n",
              "    }\n",
              "</style>\n",
              "<table border=\"1\" class=\"dataframe\">\n",
              "  <thead>\n",
              "    <tr style=\"text-align: right;\">\n",
              "      <th></th>\n",
              "      <th>dbh</th>\n",
              "      <th>latitude</th>\n",
              "      <th>longitude</th>\n",
              "      <th>site_order</th>\n",
              "      <th>tree_id</th>\n",
              "      <th>x_coordinate</th>\n",
              "      <th>y_coordinate</th>\n",
              "    </tr>\n",
              "  </thead>\n",
              "  <tbody>\n",
              "    <tr>\n",
              "      <th>count</th>\n",
              "      <td>148730.000000</td>\n",
              "      <td>185937.000000</td>\n",
              "      <td>185937.000000</td>\n",
              "      <td>187003.000000</td>\n",
              "      <td>188462.000000</td>\n",
              "      <td>1.859370e+05</td>\n",
              "      <td>1.859370e+05</td>\n",
              "    </tr>\n",
              "    <tr>\n",
              "      <th>mean</th>\n",
              "      <td>10.115350</td>\n",
              "      <td>37.766614</td>\n",
              "      <td>-122.445747</td>\n",
              "      <td>4.596156</td>\n",
              "      <td>123753.070805</td>\n",
              "      <td>5.999711e+06</td>\n",
              "      <td>2.107692e+06</td>\n",
              "    </tr>\n",
              "    <tr>\n",
              "      <th>std</th>\n",
              "      <td>29.595983</td>\n",
              "      <td>0.252526</td>\n",
              "      <td>0.419945</td>\n",
              "      <td>12.619466</td>\n",
              "      <td>78000.465822</td>\n",
              "      <td>1.032527e+05</td>\n",
              "      <td>1.034768e+05</td>\n",
              "    </tr>\n",
              "    <tr>\n",
              "      <th>min</th>\n",
              "      <td>0.000000</td>\n",
              "      <td>37.509004</td>\n",
              "      <td>-138.283861</td>\n",
              "      <td>-50.000000</td>\n",
              "      <td>1.000000</td>\n",
              "      <td>2.109337e+06</td>\n",
              "      <td>2.013289e+06</td>\n",
              "    </tr>\n",
              "    <tr>\n",
              "      <th>25%</th>\n",
              "      <td>4.000000</td>\n",
              "      <td>37.740576</td>\n",
              "      <td>-122.454022</td>\n",
              "      <td>1.000000</td>\n",
              "      <td>51479.250000</td>\n",
              "      <td>5.996832e+06</td>\n",
              "      <td>2.097931e+06</td>\n",
              "    </tr>\n",
              "    <tr>\n",
              "      <th>50%</th>\n",
              "      <td>7.000000</td>\n",
              "      <td>37.760384</td>\n",
              "      <td>-122.431353</td>\n",
              "      <td>2.000000</td>\n",
              "      <td>117469.500000</td>\n",
              "      <td>6.003412e+06</td>\n",
              "      <td>2.105132e+06</td>\n",
              "    </tr>\n",
              "    <tr>\n",
              "      <th>75%</th>\n",
              "      <td>12.000000</td>\n",
              "      <td>37.779738</td>\n",
              "      <td>-122.412973</td>\n",
              "      <td>4.000000</td>\n",
              "      <td>199686.750000</td>\n",
              "      <td>6.008726e+06</td>\n",
              "      <td>2.112195e+06</td>\n",
              "    </tr>\n",
              "    <tr>\n",
              "      <th>max</th>\n",
              "      <td>9999.000000</td>\n",
              "      <td>47.270219</td>\n",
              "      <td>-122.366622</td>\n",
              "      <td>501.000000</td>\n",
              "      <td>253415.000000</td>\n",
              "      <td>6.022031e+06</td>\n",
              "      <td>6.005733e+06</td>\n",
              "    </tr>\n",
              "  </tbody>\n",
              "</table>\n",
              "</div>"
            ],
            "text/plain": [
              "                 dbh       latitude  ...  x_coordinate  y_coordinate\n",
              "count  148730.000000  185937.000000  ...  1.859370e+05  1.859370e+05\n",
              "mean       10.115350      37.766614  ...  5.999711e+06  2.107692e+06\n",
              "std        29.595983       0.252526  ...  1.032527e+05  1.034768e+05\n",
              "min         0.000000      37.509004  ...  2.109337e+06  2.013289e+06\n",
              "25%         4.000000      37.740576  ...  5.996832e+06  2.097931e+06\n",
              "50%         7.000000      37.760384  ...  6.003412e+06  2.105132e+06\n",
              "75%        12.000000      37.779738  ...  6.008726e+06  2.112195e+06\n",
              "max      9999.000000      47.270219  ...  6.022031e+06  6.005733e+06\n",
              "\n",
              "[8 rows x 7 columns]"
            ]
          },
          "metadata": {
            "tags": []
          },
          "execution_count": 8
        }
      ]
    },
    {
      "cell_type": "code",
      "metadata": {
        "id": "rE_7vWrdvhr1",
        "colab_type": "code",
        "outputId": "21d59ed7-2a41-4544-fa22-59648117b7eb",
        "colab": {
          "base_uri": "https://localhost:8080/",
          "height": 439
        }
      },
      "source": [
        "a.isna()"
      ],
      "execution_count": 0,
      "outputs": [
        {
          "output_type": "execute_result",
          "data": {
            "text/html": [
              "<div>\n",
              "<style scoped>\n",
              "    .dataframe tbody tr th:only-of-type {\n",
              "        vertical-align: middle;\n",
              "    }\n",
              "\n",
              "    .dataframe tbody tr th {\n",
              "        vertical-align: top;\n",
              "    }\n",
              "\n",
              "    .dataframe thead th {\n",
              "        text-align: right;\n",
              "    }\n",
              "</style>\n",
              "<table border=\"1\" class=\"dataframe\">\n",
              "  <thead>\n",
              "    <tr style=\"text-align: right;\">\n",
              "      <th></th>\n",
              "      <th>address</th>\n",
              "      <th>care_assistant</th>\n",
              "      <th>care_taker</th>\n",
              "      <th>dbh</th>\n",
              "      <th>latitude</th>\n",
              "      <th>legal_status</th>\n",
              "      <th>location</th>\n",
              "      <th>longitude</th>\n",
              "      <th>permit_notes</th>\n",
              "      <th>plant_date</th>\n",
              "      <th>plant_type</th>\n",
              "      <th>plot_size</th>\n",
              "      <th>site_info</th>\n",
              "      <th>site_order</th>\n",
              "      <th>species</th>\n",
              "      <th>tree_id</th>\n",
              "      <th>x_coordinate</th>\n",
              "      <th>y_coordinate</th>\n",
              "    </tr>\n",
              "  </thead>\n",
              "  <tbody>\n",
              "    <tr>\n",
              "      <th>0</th>\n",
              "      <td>False</td>\n",
              "      <td>True</td>\n",
              "      <td>False</td>\n",
              "      <td>False</td>\n",
              "      <td>False</td>\n",
              "      <td>False</td>\n",
              "      <td>False</td>\n",
              "      <td>False</td>\n",
              "      <td>True</td>\n",
              "      <td>True</td>\n",
              "      <td>False</td>\n",
              "      <td>False</td>\n",
              "      <td>False</td>\n",
              "      <td>False</td>\n",
              "      <td>False</td>\n",
              "      <td>False</td>\n",
              "      <td>False</td>\n",
              "      <td>False</td>\n",
              "    </tr>\n",
              "    <tr>\n",
              "      <th>1</th>\n",
              "      <td>False</td>\n",
              "      <td>True</td>\n",
              "      <td>False</td>\n",
              "      <td>False</td>\n",
              "      <td>False</td>\n",
              "      <td>False</td>\n",
              "      <td>False</td>\n",
              "      <td>False</td>\n",
              "      <td>True</td>\n",
              "      <td>True</td>\n",
              "      <td>False</td>\n",
              "      <td>False</td>\n",
              "      <td>False</td>\n",
              "      <td>False</td>\n",
              "      <td>False</td>\n",
              "      <td>False</td>\n",
              "      <td>False</td>\n",
              "      <td>False</td>\n",
              "    </tr>\n",
              "    <tr>\n",
              "      <th>2</th>\n",
              "      <td>False</td>\n",
              "      <td>True</td>\n",
              "      <td>False</td>\n",
              "      <td>False</td>\n",
              "      <td>False</td>\n",
              "      <td>False</td>\n",
              "      <td>False</td>\n",
              "      <td>False</td>\n",
              "      <td>True</td>\n",
              "      <td>True</td>\n",
              "      <td>False</td>\n",
              "      <td>False</td>\n",
              "      <td>False</td>\n",
              "      <td>False</td>\n",
              "      <td>False</td>\n",
              "      <td>False</td>\n",
              "      <td>False</td>\n",
              "      <td>False</td>\n",
              "    </tr>\n",
              "    <tr>\n",
              "      <th>3</th>\n",
              "      <td>False</td>\n",
              "      <td>False</td>\n",
              "      <td>False</td>\n",
              "      <td>True</td>\n",
              "      <td>False</td>\n",
              "      <td>False</td>\n",
              "      <td>False</td>\n",
              "      <td>False</td>\n",
              "      <td>False</td>\n",
              "      <td>False</td>\n",
              "      <td>False</td>\n",
              "      <td>True</td>\n",
              "      <td>False</td>\n",
              "      <td>False</td>\n",
              "      <td>False</td>\n",
              "      <td>False</td>\n",
              "      <td>False</td>\n",
              "      <td>False</td>\n",
              "    </tr>\n",
              "    <tr>\n",
              "      <th>4</th>\n",
              "      <td>False</td>\n",
              "      <td>True</td>\n",
              "      <td>False</td>\n",
              "      <td>False</td>\n",
              "      <td>False</td>\n",
              "      <td>False</td>\n",
              "      <td>False</td>\n",
              "      <td>False</td>\n",
              "      <td>True</td>\n",
              "      <td>True</td>\n",
              "      <td>False</td>\n",
              "      <td>False</td>\n",
              "      <td>False</td>\n",
              "      <td>False</td>\n",
              "      <td>False</td>\n",
              "      <td>False</td>\n",
              "      <td>False</td>\n",
              "      <td>False</td>\n",
              "    </tr>\n",
              "    <tr>\n",
              "      <th>...</th>\n",
              "      <td>...</td>\n",
              "      <td>...</td>\n",
              "      <td>...</td>\n",
              "      <td>...</td>\n",
              "      <td>...</td>\n",
              "      <td>...</td>\n",
              "      <td>...</td>\n",
              "      <td>...</td>\n",
              "      <td>...</td>\n",
              "      <td>...</td>\n",
              "      <td>...</td>\n",
              "      <td>...</td>\n",
              "      <td>...</td>\n",
              "      <td>...</td>\n",
              "      <td>...</td>\n",
              "      <td>...</td>\n",
              "      <td>...</td>\n",
              "      <td>...</td>\n",
              "    </tr>\n",
              "    <tr>\n",
              "      <th>188457</th>\n",
              "      <td>False</td>\n",
              "      <td>True</td>\n",
              "      <td>False</td>\n",
              "      <td>False</td>\n",
              "      <td>False</td>\n",
              "      <td>False</td>\n",
              "      <td>False</td>\n",
              "      <td>False</td>\n",
              "      <td>True</td>\n",
              "      <td>False</td>\n",
              "      <td>False</td>\n",
              "      <td>False</td>\n",
              "      <td>False</td>\n",
              "      <td>False</td>\n",
              "      <td>False</td>\n",
              "      <td>False</td>\n",
              "      <td>False</td>\n",
              "      <td>False</td>\n",
              "    </tr>\n",
              "    <tr>\n",
              "      <th>188458</th>\n",
              "      <td>False</td>\n",
              "      <td>True</td>\n",
              "      <td>False</td>\n",
              "      <td>False</td>\n",
              "      <td>False</td>\n",
              "      <td>False</td>\n",
              "      <td>False</td>\n",
              "      <td>False</td>\n",
              "      <td>False</td>\n",
              "      <td>False</td>\n",
              "      <td>False</td>\n",
              "      <td>False</td>\n",
              "      <td>False</td>\n",
              "      <td>False</td>\n",
              "      <td>False</td>\n",
              "      <td>False</td>\n",
              "      <td>False</td>\n",
              "      <td>False</td>\n",
              "    </tr>\n",
              "    <tr>\n",
              "      <th>188459</th>\n",
              "      <td>False</td>\n",
              "      <td>True</td>\n",
              "      <td>False</td>\n",
              "      <td>False</td>\n",
              "      <td>False</td>\n",
              "      <td>False</td>\n",
              "      <td>False</td>\n",
              "      <td>False</td>\n",
              "      <td>True</td>\n",
              "      <td>True</td>\n",
              "      <td>False</td>\n",
              "      <td>True</td>\n",
              "      <td>False</td>\n",
              "      <td>False</td>\n",
              "      <td>False</td>\n",
              "      <td>False</td>\n",
              "      <td>False</td>\n",
              "      <td>False</td>\n",
              "    </tr>\n",
              "    <tr>\n",
              "      <th>188460</th>\n",
              "      <td>False</td>\n",
              "      <td>True</td>\n",
              "      <td>False</td>\n",
              "      <td>True</td>\n",
              "      <td>False</td>\n",
              "      <td>False</td>\n",
              "      <td>False</td>\n",
              "      <td>False</td>\n",
              "      <td>False</td>\n",
              "      <td>False</td>\n",
              "      <td>False</td>\n",
              "      <td>True</td>\n",
              "      <td>False</td>\n",
              "      <td>False</td>\n",
              "      <td>False</td>\n",
              "      <td>False</td>\n",
              "      <td>False</td>\n",
              "      <td>False</td>\n",
              "    </tr>\n",
              "    <tr>\n",
              "      <th>188461</th>\n",
              "      <td>False</td>\n",
              "      <td>True</td>\n",
              "      <td>False</td>\n",
              "      <td>False</td>\n",
              "      <td>False</td>\n",
              "      <td>False</td>\n",
              "      <td>False</td>\n",
              "      <td>False</td>\n",
              "      <td>True</td>\n",
              "      <td>True</td>\n",
              "      <td>False</td>\n",
              "      <td>False</td>\n",
              "      <td>False</td>\n",
              "      <td>False</td>\n",
              "      <td>False</td>\n",
              "      <td>False</td>\n",
              "      <td>False</td>\n",
              "      <td>False</td>\n",
              "    </tr>\n",
              "  </tbody>\n",
              "</table>\n",
              "<p>188462 rows × 18 columns</p>\n",
              "</div>"
            ],
            "text/plain": [
              "        address  care_assistant  ...  x_coordinate  y_coordinate\n",
              "0         False            True  ...         False         False\n",
              "1         False            True  ...         False         False\n",
              "2         False            True  ...         False         False\n",
              "3         False           False  ...         False         False\n",
              "4         False            True  ...         False         False\n",
              "...         ...             ...  ...           ...           ...\n",
              "188457    False            True  ...         False         False\n",
              "188458    False            True  ...         False         False\n",
              "188459    False            True  ...         False         False\n",
              "188460    False            True  ...         False         False\n",
              "188461    False            True  ...         False         False\n",
              "\n",
              "[188462 rows x 18 columns]"
            ]
          },
          "metadata": {
            "tags": []
          },
          "execution_count": 9
        }
      ]
    },
    {
      "cell_type": "code",
      "metadata": {
        "id": "NHAvrYr4vlLs",
        "colab_type": "code",
        "outputId": "64067f4b-3602-46f1-9fb2-dc17630f8692",
        "colab": {
          "base_uri": "https://localhost:8080/",
          "height": 898
        }
      },
      "source": [
        "a.fillna(0)"
      ],
      "execution_count": 0,
      "outputs": [
        {
          "output_type": "execute_result",
          "data": {
            "text/html": [
              "<div>\n",
              "<style scoped>\n",
              "    .dataframe tbody tr th:only-of-type {\n",
              "        vertical-align: middle;\n",
              "    }\n",
              "\n",
              "    .dataframe tbody tr th {\n",
              "        vertical-align: top;\n",
              "    }\n",
              "\n",
              "    .dataframe thead th {\n",
              "        text-align: right;\n",
              "    }\n",
              "</style>\n",
              "<table border=\"1\" class=\"dataframe\">\n",
              "  <thead>\n",
              "    <tr style=\"text-align: right;\">\n",
              "      <th></th>\n",
              "      <th>address</th>\n",
              "      <th>care_assistant</th>\n",
              "      <th>care_taker</th>\n",
              "      <th>dbh</th>\n",
              "      <th>latitude</th>\n",
              "      <th>legal_status</th>\n",
              "      <th>location</th>\n",
              "      <th>longitude</th>\n",
              "      <th>permit_notes</th>\n",
              "      <th>plant_date</th>\n",
              "      <th>plant_type</th>\n",
              "      <th>plot_size</th>\n",
              "      <th>site_info</th>\n",
              "      <th>site_order</th>\n",
              "      <th>species</th>\n",
              "      <th>tree_id</th>\n",
              "      <th>x_coordinate</th>\n",
              "      <th>y_coordinate</th>\n",
              "    </tr>\n",
              "  </thead>\n",
              "  <tbody>\n",
              "    <tr>\n",
              "      <th>0</th>\n",
              "      <td>443 Naples St</td>\n",
              "      <td>0</td>\n",
              "      <td>Private</td>\n",
              "      <td>4.0</td>\n",
              "      <td>37.721689</td>\n",
              "      <td>Undocumented</td>\n",
              "      <td>(37.7216893346731 -122.430482526944)</td>\n",
              "      <td>-122.430483</td>\n",
              "      <td>0</td>\n",
              "      <td>0</td>\n",
              "      <td>Tree</td>\n",
              "      <td>Width 4ft</td>\n",
              "      <td>Sidewalk: Curb side : Cutout</td>\n",
              "      <td>1.0</td>\n",
              "      <td>Tristaniopsis laurina :: Swamp Myrtle</td>\n",
              "      <td>180149</td>\n",
              "      <td>6.003355e+06</td>\n",
              "      <td>2.091004e+06</td>\n",
              "    </tr>\n",
              "    <tr>\n",
              "      <th>1</th>\n",
              "      <td>3630 Webster St</td>\n",
              "      <td>0</td>\n",
              "      <td>Private</td>\n",
              "      <td>3.0</td>\n",
              "      <td>37.804286</td>\n",
              "      <td>Undocumented</td>\n",
              "      <td>(37.8042860176436 -122.435150585742)</td>\n",
              "      <td>-122.435151</td>\n",
              "      <td>0</td>\n",
              "      <td>0</td>\n",
              "      <td>Tree</td>\n",
              "      <td>Width 3ft</td>\n",
              "      <td>:</td>\n",
              "      <td>2.0</td>\n",
              "      <td>Cordyline australis :: Dracena Palm</td>\n",
              "      <td>126095</td>\n",
              "      <td>6.002627e+06</td>\n",
              "      <td>2.121101e+06</td>\n",
              "    </tr>\n",
              "    <tr>\n",
              "      <th>2</th>\n",
              "      <td>238 Downey St</td>\n",
              "      <td>0</td>\n",
              "      <td>Private</td>\n",
              "      <td>11.0</td>\n",
              "      <td>37.764730</td>\n",
              "      <td>Undocumented</td>\n",
              "      <td>(37.7647299507493 -122.446671573844)</td>\n",
              "      <td>-122.446672</td>\n",
              "      <td>0</td>\n",
              "      <td>0</td>\n",
              "      <td>Tree</td>\n",
              "      <td>Width 3ft</td>\n",
              "      <td>Sidewalk: Curb side : Cutout</td>\n",
              "      <td>1.0</td>\n",
              "      <td>Melaleuca styphelliodes :: Paperbark Tree</td>\n",
              "      <td>233268</td>\n",
              "      <td>5.999000e+06</td>\n",
              "      <td>2.106770e+06</td>\n",
              "    </tr>\n",
              "    <tr>\n",
              "      <th>3</th>\n",
              "      <td>205 13th St</td>\n",
              "      <td>FUF</td>\n",
              "      <td>Private</td>\n",
              "      <td>0.0</td>\n",
              "      <td>37.769737</td>\n",
              "      <td>Permitted Site</td>\n",
              "      <td>(37.7697365039652 -122.417760336994)</td>\n",
              "      <td>-122.417760</td>\n",
              "      <td>Permit Number 40934</td>\n",
              "      <td>1999-6-26 00:00:00</td>\n",
              "      <td>Tree</td>\n",
              "      <td>0</td>\n",
              "      <td>Sidewalk: Curb side : Cutout</td>\n",
              "      <td>6.0</td>\n",
              "      <td>Lophostemon confertus :: Brisbane Box</td>\n",
              "      <td>39456</td>\n",
              "      <td>6.007392e+06</td>\n",
              "      <td>2.108420e+06</td>\n",
              "    </tr>\n",
              "    <tr>\n",
              "      <th>4</th>\n",
              "      <td>2417 Harrison St</td>\n",
              "      <td>0</td>\n",
              "      <td>Private</td>\n",
              "      <td>11.0</td>\n",
              "      <td>37.758333</td>\n",
              "      <td>Undocumented</td>\n",
              "      <td>(37.7583327223052 -122.412354747671)</td>\n",
              "      <td>-122.412355</td>\n",
              "      <td>0</td>\n",
              "      <td>0</td>\n",
              "      <td>Tree</td>\n",
              "      <td>Width 3ft</td>\n",
              "      <td>Sidewalk: Curb side : Cutout</td>\n",
              "      <td>2.0</td>\n",
              "      <td>Prunus serrulata 'Kwanzan' :: Kwanzan Flowerin...</td>\n",
              "      <td>237395</td>\n",
              "      <td>6.008870e+06</td>\n",
              "      <td>2.104236e+06</td>\n",
              "    </tr>\n",
              "    <tr>\n",
              "      <th>...</th>\n",
              "      <td>...</td>\n",
              "      <td>...</td>\n",
              "      <td>...</td>\n",
              "      <td>...</td>\n",
              "      <td>...</td>\n",
              "      <td>...</td>\n",
              "      <td>...</td>\n",
              "      <td>...</td>\n",
              "      <td>...</td>\n",
              "      <td>...</td>\n",
              "      <td>...</td>\n",
              "      <td>...</td>\n",
              "      <td>...</td>\n",
              "      <td>...</td>\n",
              "      <td>...</td>\n",
              "      <td>...</td>\n",
              "      <td>...</td>\n",
              "      <td>...</td>\n",
              "    </tr>\n",
              "    <tr>\n",
              "      <th>188457</th>\n",
              "      <td>1060 Mission St</td>\n",
              "      <td>0</td>\n",
              "      <td>DPW</td>\n",
              "      <td>12.0</td>\n",
              "      <td>37.779955</td>\n",
              "      <td>DPW Maintained</td>\n",
              "      <td>(37.7799548550088 -122.410118205573)</td>\n",
              "      <td>-122.410118</td>\n",
              "      <td>0</td>\n",
              "      <td>1995-3-24 00:00:00</td>\n",
              "      <td>Tree</td>\n",
              "      <td>3X3</td>\n",
              "      <td>Sidewalk: Curb side : Cutout</td>\n",
              "      <td>2.0</td>\n",
              "      <td>Lophostemon confertus :: Brisbane Box</td>\n",
              "      <td>15185</td>\n",
              "      <td>6.009677e+06</td>\n",
              "      <td>2.112095e+06</td>\n",
              "    </tr>\n",
              "    <tr>\n",
              "      <th>188458</th>\n",
              "      <td>699X 46th Ave</td>\n",
              "      <td>0</td>\n",
              "      <td>Private</td>\n",
              "      <td>3.0</td>\n",
              "      <td>37.775546</td>\n",
              "      <td>Undocumented</td>\n",
              "      <td>(37.7755463155962 -122.507051760841)</td>\n",
              "      <td>-122.507052</td>\n",
              "      <td>Permit Number 778982</td>\n",
              "      <td>2016-10-24 00:00:00</td>\n",
              "      <td>Tree</td>\n",
              "      <td>3</td>\n",
              "      <td>Sidewalk: Curb side : Cutout</td>\n",
              "      <td>1.0</td>\n",
              "      <td>Myoporum laetum :: Myoporum</td>\n",
              "      <td>105189</td>\n",
              "      <td>5.981634e+06</td>\n",
              "      <td>2.111076e+06</td>\n",
              "    </tr>\n",
              "    <tr>\n",
              "      <th>188459</th>\n",
              "      <td>1077 Front St</td>\n",
              "      <td>0</td>\n",
              "      <td>Private</td>\n",
              "      <td>13.0</td>\n",
              "      <td>37.802167</td>\n",
              "      <td>Undocumented</td>\n",
              "      <td>(37.8021672868545 -122.400584263367)</td>\n",
              "      <td>-122.400584</td>\n",
              "      <td>0</td>\n",
              "      <td>0</td>\n",
              "      <td>Tree</td>\n",
              "      <td>0</td>\n",
              "      <td>Sidewalk: Curb side : Yard</td>\n",
              "      <td>6.0</td>\n",
              "      <td>Platanus x hispanica :: Sycamore: London Plane</td>\n",
              "      <td>135017</td>\n",
              "      <td>6.012596e+06</td>\n",
              "      <td>2.120125e+06</td>\n",
              "    </tr>\n",
              "    <tr>\n",
              "      <th>188460</th>\n",
              "      <td>2963 22nd St</td>\n",
              "      <td>0</td>\n",
              "      <td>Private</td>\n",
              "      <td>0.0</td>\n",
              "      <td>37.755677</td>\n",
              "      <td>Permitted Site</td>\n",
              "      <td>(37.7556770955518 -122.413576977759)</td>\n",
              "      <td>-122.413577</td>\n",
              "      <td>Permit Number 20498</td>\n",
              "      <td>1983-3-28 00:00:00</td>\n",
              "      <td>Tree</td>\n",
              "      <td>0</td>\n",
              "      <td>Sidewalk: Curb side : Cutout</td>\n",
              "      <td>1.0</td>\n",
              "      <td>Tree(s) ::</td>\n",
              "      <td>60820</td>\n",
              "      <td>6.008497e+06</td>\n",
              "      <td>2.103277e+06</td>\n",
              "    </tr>\n",
              "    <tr>\n",
              "      <th>188461</th>\n",
              "      <td>1441X Alemany Blvd</td>\n",
              "      <td>0</td>\n",
              "      <td>Private</td>\n",
              "      <td>19.0</td>\n",
              "      <td>37.728838</td>\n",
              "      <td>Permitted Site</td>\n",
              "      <td>(37.728837937275 -122.434193118021)</td>\n",
              "      <td>-122.434193</td>\n",
              "      <td>0</td>\n",
              "      <td>0</td>\n",
              "      <td>Tree</td>\n",
              "      <td>12X6</td>\n",
              "      <td>Sidewalk: Curb side : Cutout</td>\n",
              "      <td>3.0</td>\n",
              "      <td>Ulmus pumila :: Siberian Elm</td>\n",
              "      <td>22540</td>\n",
              "      <td>6.002336e+06</td>\n",
              "      <td>2.093629e+06</td>\n",
              "    </tr>\n",
              "  </tbody>\n",
              "</table>\n",
              "<p>188462 rows × 18 columns</p>\n",
              "</div>"
            ],
            "text/plain": [
              "                   address care_assistant  ...  x_coordinate  y_coordinate\n",
              "0            443 Naples St              0  ...  6.003355e+06  2.091004e+06\n",
              "1          3630 Webster St              0  ...  6.002627e+06  2.121101e+06\n",
              "2            238 Downey St              0  ...  5.999000e+06  2.106770e+06\n",
              "3              205 13th St            FUF  ...  6.007392e+06  2.108420e+06\n",
              "4         2417 Harrison St              0  ...  6.008870e+06  2.104236e+06\n",
              "...                    ...            ...  ...           ...           ...\n",
              "188457     1060 Mission St              0  ...  6.009677e+06  2.112095e+06\n",
              "188458       699X 46th Ave              0  ...  5.981634e+06  2.111076e+06\n",
              "188459       1077 Front St              0  ...  6.012596e+06  2.120125e+06\n",
              "188460        2963 22nd St              0  ...  6.008497e+06  2.103277e+06\n",
              "188461  1441X Alemany Blvd              0  ...  6.002336e+06  2.093629e+06\n",
              "\n",
              "[188462 rows x 18 columns]"
            ]
          },
          "metadata": {
            "tags": []
          },
          "execution_count": 10
        }
      ]
    },
    {
      "cell_type": "code",
      "metadata": {
        "id": "qciGjSsCvpxV",
        "colab_type": "code",
        "outputId": "a636423d-cd61-47d5-efb6-a23e7677214e",
        "colab": {
          "base_uri": "https://localhost:8080/",
          "height": 408
        }
      },
      "source": [
        "a.info(0)"
      ],
      "execution_count": 0,
      "outputs": [
        {
          "output_type": "stream",
          "text": [
            "<class 'pandas.core.frame.DataFrame'>\n",
            "RangeIndex: 188462 entries, 0 to 188461\n",
            "Data columns (total 18 columns):\n",
            "address           186972 non-null object\n",
            "care_assistant    23266 non-null object\n",
            "care_taker        188462 non-null object\n",
            "dbh               148730 non-null float64\n",
            "latitude          185937 non-null float64\n",
            "legal_status      188405 non-null object\n",
            "location          185937 non-null object\n",
            "longitude         185937 non-null float64\n",
            "permit_notes      50660 non-null object\n",
            "plant_date        64873 non-null object\n",
            "plant_type        188462 non-null object\n",
            "plot_size         139024 non-null object\n",
            "site_info         188462 non-null object\n",
            "site_order        187003 non-null float64\n",
            "species           188462 non-null object\n",
            "tree_id           188462 non-null int64\n",
            "x_coordinate      185937 non-null float64\n",
            "y_coordinate      185937 non-null float64\n",
            "dtypes: float64(6), int64(1), object(11)\n",
            "memory usage: 25.9+ MB\n"
          ],
          "name": "stdout"
        }
      ]
    },
    {
      "cell_type": "code",
      "metadata": {
        "id": "x98ZgWYhvtcv",
        "colab_type": "code",
        "outputId": "18faa676-7c2b-45ae-c31f-57811d099de0",
        "colab": {
          "base_uri": "https://localhost:8080/",
          "height": 153
        }
      },
      "source": [
        "a.var()"
      ],
      "execution_count": 0,
      "outputs": [
        {
          "output_type": "execute_result",
          "data": {
            "text/plain": [
              "dbh             8.759222e+02\n",
              "latitude        6.376953e-02\n",
              "longitude       1.763535e-01\n",
              "site_order      1.592509e+02\n",
              "tree_id         6.084073e+09\n",
              "x_coordinate    1.066112e+10\n",
              "y_coordinate    1.070745e+10\n",
              "dtype: float64"
            ]
          },
          "metadata": {
            "tags": []
          },
          "execution_count": 12
        }
      ]
    },
    {
      "cell_type": "code",
      "metadata": {
        "id": "w5SWE-3Ovw68",
        "colab_type": "code",
        "outputId": "b237032f-df9d-4532-8bf1-94ff8bac0d44",
        "colab": {
          "base_uri": "https://localhost:8080/",
          "height": 340
        }
      },
      "source": [
        "a.dtypes"
      ],
      "execution_count": 0,
      "outputs": [
        {
          "output_type": "execute_result",
          "data": {
            "text/plain": [
              "address            object\n",
              "care_assistant     object\n",
              "care_taker         object\n",
              "dbh               float64\n",
              "latitude          float64\n",
              "legal_status       object\n",
              "location           object\n",
              "longitude         float64\n",
              "permit_notes       object\n",
              "plant_date         object\n",
              "plant_type         object\n",
              "plot_size          object\n",
              "site_info          object\n",
              "site_order        float64\n",
              "species            object\n",
              "tree_id             int64\n",
              "x_coordinate      float64\n",
              "y_coordinate      float64\n",
              "dtype: object"
            ]
          },
          "metadata": {
            "tags": []
          },
          "execution_count": 13
        }
      ]
    },
    {
      "cell_type": "code",
      "metadata": {
        "id": "A6KNdYicJ_zm",
        "colab_type": "code",
        "colab": {
          "base_uri": "https://localhost:8080/",
          "height": 34
        },
        "outputId": "1ef0b0d2-8590-4d26-a59b-cea5795dbed9"
      },
      "source": [
        "#1\n",
        "a['x_coordinate'].max()"
      ],
      "execution_count": 20,
      "outputs": [
        {
          "output_type": "execute_result",
          "data": {
            "text/plain": [
              "6022030.55852908"
            ]
          },
          "metadata": {
            "tags": []
          },
          "execution_count": 20
        }
      ]
    },
    {
      "cell_type": "code",
      "metadata": {
        "id": "QbifcyMDKJFs",
        "colab_type": "code",
        "colab": {
          "base_uri": "https://localhost:8080/",
          "height": 34
        },
        "outputId": "5bcb3cf9-4567-4bb7-8486-6a2fafd828fb"
      },
      "source": [
        "\n",
        "#2\n",
        "a['y_coordinate'].min()"
      ],
      "execution_count": 21,
      "outputs": [
        {
          "output_type": "execute_result",
          "data": {
            "text/plain": [
              "2013289.4130000002"
            ]
          },
          "metadata": {
            "tags": []
          },
          "execution_count": 21
        }
      ]
    },
    {
      "cell_type": "code",
      "metadata": {
        "id": "btF6J65UKNxE",
        "colab_type": "code",
        "colab": {
          "base_uri": "https://localhost:8080/",
          "height": 34
        },
        "outputId": "6e23b25c-9fbf-48dc-b532-9dceb968e3e2"
      },
      "source": [
        "#3\n",
        "a['dbh'].mean()"
      ],
      "execution_count": 22,
      "outputs": [
        {
          "output_type": "execute_result",
          "data": {
            "text/plain": [
              "10.115349963020238"
            ]
          },
          "metadata": {
            "tags": []
          },
          "execution_count": 22
        }
      ]
    },
    {
      "cell_type": "code",
      "metadata": {
        "id": "BkNOcvzsKXw0",
        "colab_type": "code",
        "colab": {
          "base_uri": "https://localhost:8080/",
          "height": 50
        },
        "outputId": "2015be78-76ee-4b68-f30c-263726b7bfa7"
      },
      "source": [
        "#4\n",
        "a['site_order'].mode()"
      ],
      "execution_count": 24,
      "outputs": [
        {
          "output_type": "execute_result",
          "data": {
            "text/plain": [
              "0    1.0\n",
              "dtype: float64"
            ]
          },
          "metadata": {
            "tags": []
          },
          "execution_count": 24
        }
      ]
    },
    {
      "cell_type": "code",
      "metadata": {
        "id": "_Qdzwk-0Kgr0",
        "colab_type": "code",
        "colab": {
          "base_uri": "https://localhost:8080/",
          "height": 50
        },
        "outputId": "6e630493-98d6-4088-d298-7d91b579d64b"
      },
      "source": [
        "#5\n",
        "a['species'].mode()"
      ],
      "execution_count": 25,
      "outputs": [
        {
          "output_type": "execute_result",
          "data": {
            "text/plain": [
              "0    Tree(s) ::\n",
              "dtype: object"
            ]
          },
          "metadata": {
            "tags": []
          },
          "execution_count": 25
        }
      ]
    },
    {
      "cell_type": "code",
      "metadata": {
        "id": "IS5jbRclKnWL",
        "colab_type": "code",
        "colab": {
          "base_uri": "https://localhost:8080/",
          "height": 34
        },
        "outputId": "79e4d509-4cfb-4dd5-f15e-2752ab5f851c"
      },
      "source": [
        "#6\n",
        "a['latitude'].max()"
      ],
      "execution_count": 26,
      "outputs": [
        {
          "output_type": "execute_result",
          "data": {
            "text/plain": [
              "47.27021880585"
            ]
          },
          "metadata": {
            "tags": []
          },
          "execution_count": 26
        }
      ]
    },
    {
      "cell_type": "code",
      "metadata": {
        "id": "9wi9WDzkvzzl",
        "colab_type": "code",
        "outputId": "90a3bc02-f42d-4368-b56c-47134ac3616e",
        "colab": {
          "base_uri": "https://localhost:8080/",
          "height": 455
        }
      },
      "source": [
        "plt.hist(a['latitude'])"
      ],
      "execution_count": 0,
      "outputs": [
        {
          "output_type": "stream",
          "text": [
            "/usr/local/lib/python3.6/dist-packages/numpy/lib/histograms.py:839: RuntimeWarning: invalid value encountered in greater_equal\n",
            "  keep = (tmp_a >= first_edge)\n",
            "/usr/local/lib/python3.6/dist-packages/numpy/lib/histograms.py:840: RuntimeWarning: invalid value encountered in less_equal\n",
            "  keep &= (tmp_a <= last_edge)\n"
          ],
          "name": "stderr"
        },
        {
          "output_type": "execute_result",
          "data": {
            "text/plain": [
              "(array([1.85807e+05, 0.00000e+00, 0.00000e+00, 0.00000e+00, 0.00000e+00,\n",
              "        0.00000e+00, 0.00000e+00, 0.00000e+00, 0.00000e+00, 1.30000e+02]),\n",
              " array([37.50900399, 38.48512547, 39.46124695, 40.43736843, 41.41348992,\n",
              "        42.3896114 , 43.36573288, 44.34185436, 45.31797584, 46.29409732,\n",
              "        47.27021881]),\n",
              " <a list of 10 Patch objects>)"
            ]
          },
          "metadata": {
            "tags": []
          },
          "execution_count": 14
        },
        {
          "output_type": "display_data",
          "data": {
            "image/png": "[encoded data removed]",
            "text/plain": [
              "<Figure size 432x288 with 1 Axes>"
            ]
          },
          "metadata": {
            "tags": []
          }
        }
      ]
    },
    {
      "cell_type": "code",
      "metadata": {
        "id": "zVI9M8fqwyDF",
        "colab_type": "code",
        "outputId": "59a37cb6-0333-4169-90f5-1cd7978a0fdf",
        "colab": {
          "base_uri": "https://localhost:8080/",
          "height": 455
        }
      },
      "source": [
        "plt.hist(a['longitude'])"
      ],
      "execution_count": 0,
      "outputs": [
        {
          "output_type": "stream",
          "text": [
            "/usr/local/lib/python3.6/dist-packages/numpy/lib/histograms.py:839: RuntimeWarning: invalid value encountered in greater_equal\n",
            "  keep = (tmp_a >= first_edge)\n",
            "/usr/local/lib/python3.6/dist-packages/numpy/lib/histograms.py:840: RuntimeWarning: invalid value encountered in less_equal\n",
            "  keep &= (tmp_a <= last_edge)\n"
          ],
          "name": "stderr"
        },
        {
          "output_type": "execute_result",
          "data": {
            "text/plain": [
              "(array([1.30000e+02, 0.00000e+00, 0.00000e+00, 0.00000e+00, 0.00000e+00,\n",
              "        0.00000e+00, 0.00000e+00, 0.00000e+00, 0.00000e+00, 1.85807e+05]),\n",
              " array([-138.28386069, -136.69213682, -135.10041296, -133.50868909,\n",
              "        -131.91696523, -130.32524136, -128.7335175 , -127.14179363,\n",
              "        -125.55006977, -123.9583459 , -122.36662204]),\n",
              " <a list of 10 Patch objects>)"
            ]
          },
          "metadata": {
            "tags": []
          },
          "execution_count": 15
        },
        {
          "output_type": "display_data",
          "data": {
            "image/png": "[encoded data removed]",
            "text/plain": [
              "<Figure size 432x288 with 1 Axes>"
            ]
          },
          "metadata": {
            "tags": []
          }
        }
      ]
    },
    {
      "cell_type": "code",
      "metadata": {
        "id": "05CpA2L0w6d1",
        "colab_type": "code",
        "outputId": "c667dec3-b800-47eb-9899-bd1896026205",
        "colab": {
          "base_uri": "https://localhost:8080/",
          "height": 265
        }
      },
      "source": [
        "plt.scatter(a['site_order'],a['latitude'],c='green')\n",
        "plt.xlalel=('site_order')\n",
        "plt.ylabel=('latitude')\n",
        "plt.show()"
      ],
      "execution_count": 0,
      "outputs": [
        {
          "output_type": "display_data",
          "data": {
            "image/png": "[encoded data removed]",
            "text/plain": [
              "<Figure size 432x288 with 1 Axes>"
            ]
          },
          "metadata": {
            "tags": []
          }
        }
      ]
    },
    {
      "cell_type": "code",
      "metadata": {
        "id": "A1zbRM3kxrvX",
        "colab_type": "code",
        "outputId": "ce7d0225-da68-461d-9b84-13dac8ec59fd",
        "colab": {
          "base_uri": "https://localhost:8080/",
          "height": 265
        }
      },
      "source": [
        "plt.scatter(a['site_order'],a['longitude'],c='green')\n",
        "plt.xlabel=('site_order')\n",
        "plt.ylabel=('longitude')\n",
        "plt.show()"
      ],
      "execution_count": 0,
      "outputs": [
        {
          "output_type": "display_data",
          "data": {
            "image/png": "[encoded data removed]",
            "text/plain": [
              "<Figure size 432x288 with 1 Axes>"
            ]
          },
          "metadata": {
            "tags": []
          }
        }
      ]
    },
    {
      "cell_type": "code",
      "metadata": {
        "id": "C4B9EP5ryOcC",
        "colab_type": "code",
        "outputId": "8617aa2d-359d-4d3c-e1be-743f951651b1",
        "colab": {
          "base_uri": "https://localhost:8080/",
          "height": 295
        }
      },
      "source": [
        "p=a['latitude']\n",
        "q=a['longitude']\n",
        "#r=a['dbh']\n",
        "plt.plot(p,q,color='r',label='lineone',marker='o',markerfacecolor='r')\n",
        "#plt.plot(q,r,color='b',label='linetwo',marker='o',markerfacecolor='b')\n",
        "plt.legend()\n",
        "plt.xlabel('xaxis')\n",
        "plt.ylabel('yaxis')\n",
        "plt.title('line plot')\n",
        "plt.show()"
      ],
      "execution_count": 27,
      "outputs": [
        {
          "output_type": "display_data",
          "data": {
            "image/png": "[encoded data removed]",
            "text/plain": [
              "<Figure size 432x288 with 1 Axes>"
            ]
          },
          "metadata": {
            "tags": []
          }
        }
      ]
    },
    {
      "cell_type": "markdown",
      "metadata": {
        "id": "MSym6M22MDU_",
        "colab_type": "text"
      },
      "source": [
        "# Conclusion:"
      ]
    },
    {
      "cell_type": "markdown",
      "metadata": {
        "id": "eushzlBwMa9P",
        "colab_type": "text"
      },
      "source": [
        "prop. E was a measure on the November 8, 2016 San Francisco ballot regarding responsibility for maintaining street trees and surrounding sidewalks. Voters were asked if the City should amend the City Charter to transfer responsibility from property owners to the City for maintaining trees on sidewalks adjacent to their property, as well for repairing sidewalks damaged by the trees. Prop E passed with almost 80% of the voters’ support. As part of this proposition, a SF tree census was conducted by SF Public Works."
      ]
    },
    {
      "cell_type": "markdown",
      "metadata": {
        "id": "t-kyChH_NhPP",
        "colab_type": "text"
      },
      "source": [
        "Team members details:\n",
        "\n",
        "1. N.Lavanya \n",
        "\n",
        "2. Md.Nasreen\n",
        "\n"
      ]
    }
  ]
}